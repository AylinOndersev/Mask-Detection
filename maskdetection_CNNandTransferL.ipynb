{
  "nbformat": 4,
  "nbformat_minor": 0,
  "metadata": {
    "colab": {
      "name": "MASK DETECTION.ipynb",
      "provenance": [],
      "collapsed_sections": [],
      "toc_visible": true,
      "include_colab_link": true
    },
    "kernelspec": {
      "name": "python3",
      "display_name": "Python 3"
    }
  },
  "cells": [
    {
      "cell_type": "markdown",
      "metadata": {
        "id": "view-in-github",
        "colab_type": "text"
      },
      "source": [
        "<a href=\"https://colab.research.google.com/github/AylinOndersev/Mask-Detection/blob/main/MASK_DETECTION.ipynb\" target=\"_parent\"><img src=\"https://colab.research.google.com/assets/colab-badge.svg\" alt=\"Open In Colab\"/></a>"
      ]
    },
    {
      "cell_type": "markdown",
      "metadata": {
        "id": "mM995sZwcgen"
      },
      "source": [
        "\n",
        "\n",
        "```\n",
        "# This is formatted as code\n",
        "```\n",
        "\n",
        "\n",
        "# **MASK DETECTION**\n",
        "With occuring Covid-19,\n",
        "A new term joins our lives , mask ! \n",
        "It protects us from virus if we wear mask correctly.\n",
        "there is no efficient face mask detection applications so I would like to construct a classification model with images which 3 classes. They are 'yes mask','no mask' and 'wrong mask'. Let's coding and raise awareness of wearning mask.\n",
        "\n",
        "\n",
        "\n",
        "\n"
      ]
    },
    {
      "cell_type": "markdown",
      "metadata": {
        "id": "-HqkesFvmvoA"
      },
      "source": [
        "## Library"
      ]
    },
    {
      "cell_type": "code",
      "metadata": {
        "id": "B5paW8Q36-Wi",
        "outputId": "c9a0ed4a-2f90-4920-f877-bef04a97cc62",
        "colab": {
          "base_uri": "https://localhost:8080/",
          "height": 34
        }
      },
      "source": [
        "# import the required libraries\n",
        "from tensorflow.keras.preprocessing.image import ImageDataGenerator\n",
        "from tensorflow.keras.applications import MobileNetV2\n",
        "from tensorflow.keras.layers import AveragePooling2D\n",
        "from tensorflow.keras.layers import Dropout\n",
        "from tensorflow.keras.layers import Flatten\n",
        "from tensorflow.keras.layers import Dense\n",
        "from tensorflow.keras.layers import Input\n",
        "from tensorflow.keras.models import Model\n",
        "from tensorflow.keras.optimizers import Adam\n",
        "from tensorflow.keras.applications.mobilenet_v2 import preprocess_input\n",
        "from tensorflow.keras.preprocessing.image import img_to_array\n",
        "from tensorflow.keras.preprocessing.image import load_img\n",
        "from tensorflow.keras.utils import to_categorical\n",
        "from sklearn.preprocessing import LabelBinarizer\n",
        "from sklearn.model_selection import train_test_split\n",
        "from sklearn.metrics import classification_report\n",
        "from imutils import paths\n",
        "from shutil import copyfile\n",
        "import random\n",
        "\n",
        "import matplotlib.pyplot as plt\n",
        "import numpy as np\n",
        "import argparse\n",
        "import os\n",
        "import tensorflow as tf\n",
        "print(\"Tensorflow version \" + tf.__version__)"
      ],
      "execution_count": null,
      "outputs": [
        {
          "output_type": "stream",
          "text": [
            "Tensorflow version 2.3.0\n"
          ],
          "name": "stdout"
        }
      ]
    },
    {
      "cell_type": "code",
      "metadata": {
        "id": "nOmD_Osi7F9q",
        "outputId": "86c26351-a005-4af6-8aa5-1e0183d4e0d6",
        "colab": {
          "base_uri": "https://localhost:8080/",
          "height": 34
        }
      },
      "source": [
        "from google.colab import drive\n",
        "drive.mount('/content/drive')"
      ],
      "execution_count": null,
      "outputs": [
        {
          "output_type": "stream",
          "text": [
            "Mounted at /content/drive\n"
          ],
          "name": "stdout"
        }
      ]
    },
    {
      "cell_type": "markdown",
      "metadata": {
        "id": "_OYS6-iH5jhD"
      },
      "source": [
        "## Model with CNN"
      ]
    },
    {
      "cell_type": "markdown",
      "metadata": {
        "id": "9Wsn3hgv-F1S"
      },
      "source": [
        "### Dataset"
      ]
    },
    {
      "cell_type": "code",
      "metadata": {
        "id": "urS8qrPs7F_6",
        "outputId": "01d9a62e-bbfe-462e-96b6-82c8e0601fcd",
        "colab": {
          "base_uri": "https://localhost:8080/",
          "height": 68
        }
      },
      "source": [
        "print(\"The number of images with facemask labelled 'yes':\",len(os.listdir('/content/drive/My Drive/data/yesmask')))\n",
        "print(\"The number of images with facemask labelled 'wrong':\",len(os.listdir('/content/drive/My Drive/data/wrongmask')))\n",
        "print(\"The number of images with facemask labelled 'no':\",len(os.listdir('/content/drive/My Drive/data/nomask')))"
      ],
      "execution_count": null,
      "outputs": [
        {
          "output_type": "stream",
          "text": [
            "The number of images with facemask labelled 'yes': 472\n",
            "The number of images with facemask labelled 'wrong': 471\n",
            "The number of images with facemask labelled 'no': 518\n"
          ],
          "name": "stdout"
        }
      ]
    },
    {
      "cell_type": "markdown",
      "metadata": {
        "id": "s0I1jjQ5-XRQ"
      },
      "source": [
        "### Split Data Test and Train"
      ]
    },
    {
      "cell_type": "code",
      "metadata": {
        "id": "d0tYPZ7V7GCM",
        "outputId": "42e77915-976e-4abe-ad87-92d0311b4b4a",
        "colab": {
          "base_uri": "https://localhost:8080/",
          "height": 34
        }
      },
      "source": [
        "BATCH_SIZE = 64\n",
        "EPOCHS = 200\n",
        "\n",
        "# put the list of images in our dataset directory, then initialize\n",
        "# the list of data and class images\n",
        "print(\"loading images...\")\n",
        "imagePaths = list(paths.list_images(\"/content/drive/My Drive/data\"))\n",
        "data = []\n",
        "labels = []\n",
        "\n",
        "# loop over the image paths\n",
        "for imagePath in imagePaths:\n",
        "\t# extract the class label from the filename\n",
        "\tlabel = imagePath.split(os.path.sep)[-2]\n",
        "\n",
        "\t# load the input image (224x224) and preprocess it\n",
        "\timage = load_img(imagePath, target_size=(224, 224))\n",
        "\timage = img_to_array(image)\n",
        "\timage = preprocess_input(image)\n",
        "\n",
        "\t# update the data and labels lists, respectively\n",
        "\tdata.append(image)\n",
        "\tlabels.append(label)\n",
        "\n",
        "# convert the data and labels to NumPy arrays\n",
        "data = np.array(data, dtype=\"float32\")\n",
        "labels = np.array(labels)\n",
        "\n",
        "# perform one-hot encoding on the labels\n",
        "lb = LabelBinarizer()\n",
        "labels = lb.fit_transform(labels)\n",
        "#labels = to_categorical(labels)\n",
        "\n",
        "(trainX, testX, trainY, testY) = train_test_split(data, labels,\n",
        "\ttest_size=0.20, random_state=42)"
      ],
      "execution_count": null,
      "outputs": [
        {
          "output_type": "stream",
          "text": [
            "loading images...\n"
          ],
          "name": "stdout"
        }
      ]
    },
    {
      "cell_type": "markdown",
      "metadata": {
        "id": "EXguBy19-y-F"
      },
      "source": [
        "### Set Parameter"
      ]
    },
    {
      "cell_type": "code",
      "metadata": {
        "id": "ZzbxzT_Usp5m",
        "outputId": "361ed4d8-88b8-4f81-b7b5-a6e792ac5748",
        "colab": {
          "base_uri": "https://localhost:8080/",
          "height": 765
        }
      },
      "source": [
        "model = tf.keras.Sequential(\n",
        "  [\n",
        "      #tf.keras.layers.Reshape(input_shape=(224, 224, 3), target_shape=(224, 224, 3)),\n",
        "      \n",
        "      tf.keras.layers.Conv2D(kernel_size=3, filters=12, use_bias=False, padding='same',input_shape=(224, 224, 3)),\n",
        "      tf.keras.layers.BatchNormalization(center=True, scale=False),\n",
        "      tf.keras.layers.Activation('relu'),\n",
        "      \n",
        "      tf.keras.layers.Conv2D(kernel_size=6, filters=24, use_bias=False, padding='same', strides=2),\n",
        "      tf.keras.layers.BatchNormalization(center=True, scale=False),\n",
        "      tf.keras.layers.Activation('relu'),\n",
        "      \n",
        "      tf.keras.layers.Conv2D(kernel_size=6, filters=32, use_bias=False, padding='same', strides=2),\n",
        "      tf.keras.layers.BatchNormalization(center=True, scale=False),\n",
        "      tf.keras.layers.Activation('relu'),\n",
        "   \n",
        "      tf.keras.layers.Conv2D(kernel_size=6, filters=32, use_bias=False, padding='same', strides=2),\n",
        "      tf.keras.layers.BatchNormalization(center=True, scale=False),\n",
        "      tf.keras.layers.Activation('relu'),\n",
        "   \n",
        "      \n",
        "      tf.keras.layers.Flatten(),\n",
        "      \n",
        "      tf.keras.layers.Dense(200, use_bias=False),\n",
        "      tf.keras.layers.BatchNormalization(center=True, scale=False),\n",
        "      tf.keras.layers.Activation('relu'),\n",
        "      \n",
        "      tf.keras.layers.Dropout(0.5),\n",
        "      tf.keras.layers.Dense(3, activation='softmax')\n",
        "  ])\n",
        "\n",
        "\n",
        "\n",
        "model.compile(optimizer=tf.keras.optimizers.Adam(lr=0.01),\n",
        "              loss='categorical_crossentropy',\n",
        "              metrics=['accuracy'])\n",
        "\n",
        "# print model layers\n",
        "model.summary()\n",
        "\n"
      ],
      "execution_count": null,
      "outputs": [
        {
          "output_type": "stream",
          "text": [
            "Model: \"sequential\"\n",
            "_________________________________________________________________\n",
            "Layer (type)                 Output Shape              Param #   \n",
            "=================================================================\n",
            "conv2d (Conv2D)              (None, 224, 224, 12)      324       \n",
            "_________________________________________________________________\n",
            "batch_normalization (BatchNo (None, 224, 224, 12)      36        \n",
            "_________________________________________________________________\n",
            "activation (Activation)      (None, 224, 224, 12)      0         \n",
            "_________________________________________________________________\n",
            "conv2d_1 (Conv2D)            (None, 112, 112, 24)      10368     \n",
            "_________________________________________________________________\n",
            "batch_normalization_1 (Batch (None, 112, 112, 24)      72        \n",
            "_________________________________________________________________\n",
            "activation_1 (Activation)    (None, 112, 112, 24)      0         \n",
            "_________________________________________________________________\n",
            "conv2d_2 (Conv2D)            (None, 56, 56, 32)        27648     \n",
            "_________________________________________________________________\n",
            "batch_normalization_2 (Batch (None, 56, 56, 32)        96        \n",
            "_________________________________________________________________\n",
            "activation_2 (Activation)    (None, 56, 56, 32)        0         \n",
            "_________________________________________________________________\n",
            "conv2d_3 (Conv2D)            (None, 28, 28, 32)        36864     \n",
            "_________________________________________________________________\n",
            "batch_normalization_3 (Batch (None, 28, 28, 32)        96        \n",
            "_________________________________________________________________\n",
            "activation_3 (Activation)    (None, 28, 28, 32)        0         \n",
            "_________________________________________________________________\n",
            "flatten (Flatten)            (None, 25088)             0         \n",
            "_________________________________________________________________\n",
            "dense (Dense)                (None, 200)               5017600   \n",
            "_________________________________________________________________\n",
            "batch_normalization_4 (Batch (None, 200)               600       \n",
            "_________________________________________________________________\n",
            "activation_4 (Activation)    (None, 200)               0         \n",
            "_________________________________________________________________\n",
            "dropout (Dropout)            (None, 200)               0         \n",
            "_________________________________________________________________\n",
            "dense_1 (Dense)              (None, 3)                 603       \n",
            "=================================================================\n",
            "Total params: 5,094,307\n",
            "Trainable params: 5,093,707\n",
            "Non-trainable params: 600\n",
            "_________________________________________________________________\n"
          ],
          "name": "stdout"
        }
      ]
    },
    {
      "cell_type": "markdown",
      "metadata": {
        "id": "WGnIpXOLEdn8"
      },
      "source": [
        "### Learning Rate Schedule Section"
      ]
    },
    {
      "cell_type": "code",
      "metadata": {
        "id": "4wxrQqDeEhcr"
      },
      "source": [
        "# lr decay function\n",
        "def lr_decay(epoch):\n",
        "  return 0.01 * math.pow(0.666, epoch)\n",
        "\n",
        "# lr schedule callback\n",
        "lr_decay_callback = tf.keras.callbacks.LearningRateScheduler(lr_decay, verbose=True)\n",
        "\n",
        "# important to see what you are doing\n",
        "#plot_learning_rate(lr_decay, EPOCHS)"
      ],
      "execution_count": null,
      "outputs": []
    },
    {
      "cell_type": "code",
      "metadata": {
        "id": "im9r3jPBtW3b",
        "outputId": "b0261bbd-9472-4d14-dcda-17d330d79c9a",
        "colab": {
          "base_uri": "https://localhost:8080/",
          "height": 51
        }
      },
      "source": [
        "steps_per_epoch = 60000//BATCH_SIZE  # 60,000 items in this dataset\n",
        "print(\"Steps per epoch: \", steps_per_epoch)\n",
        "# train the head of the network\n",
        "print(\"training head...\")\n",
        "\n",
        "aug = ImageDataGenerator(\n",
        "\trotation_range=20,\n",
        "\tzoom_range=0.15,\n",
        "\twidth_shift_range=0.2,\n",
        "\theight_shift_range=0.2,\n",
        "\tshear_range=0.15,\n",
        "\thorizontal_flip=True,\n",
        "\tfill_mode=\"nearest\")\n",
        "\n"
      ],
      "execution_count": null,
      "outputs": [
        {
          "output_type": "stream",
          "text": [
            "Steps per epoch:  937\n",
            "training head...\n"
          ],
          "name": "stdout"
        }
      ]
    },
    {
      "cell_type": "markdown",
      "metadata": {
        "id": "sYKGqQrk_LcI"
      },
      "source": [
        "### Model"
      ]
    },
    {
      "cell_type": "code",
      "metadata": {
        "id": "L0eRvr52tW_e",
        "outputId": "250a2527-e0b7-43fb-db37-80cfc4d86224",
        "colab": {
          "base_uri": "https://localhost:8080/",
          "height": 1000
        }
      },
      "source": [
        "H = model.fit(\n",
        "\taug.flow(trainX, trainY, batch_size=BATCH_SIZE),\n",
        "\tsteps_per_epoch=len(trainX) // BATCH_SIZE,\n",
        "\tvalidation_data=(testX, testY),\n",
        "\tvalidation_steps=len(testX) // BATCH_SIZE,\n",
        "\tepochs=EPOCHS)\n",
        "\n",
        "\n",
        "# make predictions on the testing set\n",
        "print(\" evaluating network...\")\n",
        "predIdxs = model.predict(testX, batch_size=BATCH_SIZE)\n",
        "\n",
        "# for each image in the testing set we need to find the index of the\n",
        "# label with corresponding largest predicted probability\n",
        "predIdxs = np.argmax(predIdxs, axis=1)\n",
        "\n",
        "# show a nicely formatted classification report\n",
        "print(classification_report(testY.argmax(axis=1), predIdxs,\n",
        "\ttarget_names=lb.classes_))"
      ],
      "execution_count": null,
      "outputs": [
        {
          "output_type": "stream",
          "text": [
            "Epoch 1/200\n",
            "16/16 [==============================] - 95s 6s/step - loss: 1.2404 - accuracy: 0.5157 - val_loss: 241.2302 - val_accuracy: 0.5055\n",
            "Epoch 2/200\n",
            "16/16 [==============================] - 97s 6s/step - loss: 0.8376 - accuracy: 0.5941 - val_loss: 19.3080 - val_accuracy: 0.5314\n",
            "Epoch 3/200\n",
            "16/16 [==============================] - 94s 6s/step - loss: 0.7993 - accuracy: 0.6108 - val_loss: 12.1343 - val_accuracy: 0.4945\n",
            "Epoch 4/200\n",
            "16/16 [==============================] - 94s 6s/step - loss: 0.7697 - accuracy: 0.6324 - val_loss: 4.2272 - val_accuracy: 0.5314\n",
            "Epoch 5/200\n",
            "16/16 [==============================] - 95s 6s/step - loss: 0.7568 - accuracy: 0.6500 - val_loss: 7.0555 - val_accuracy: 0.4354\n",
            "Epoch 6/200\n",
            "16/16 [==============================] - 95s 6s/step - loss: 0.7469 - accuracy: 0.6422 - val_loss: 1.5020 - val_accuracy: 0.5424\n",
            "Epoch 7/200\n",
            "16/16 [==============================] - 95s 6s/step - loss: 0.7353 - accuracy: 0.6523 - val_loss: 4.9810 - val_accuracy: 0.4170\n",
            "Epoch 8/200\n",
            "16/16 [==============================] - 97s 6s/step - loss: 0.7111 - accuracy: 0.6598 - val_loss: 1.1401 - val_accuracy: 0.5387\n",
            "Epoch 9/200\n",
            "16/16 [==============================] - 95s 6s/step - loss: 0.7353 - accuracy: 0.6480 - val_loss: 0.8853 - val_accuracy: 0.6310\n",
            "Epoch 10/200\n",
            "16/16 [==============================] - 94s 6s/step - loss: 0.7663 - accuracy: 0.6461 - val_loss: 0.9580 - val_accuracy: 0.6162\n",
            "Epoch 11/200\n",
            "16/16 [==============================] - 95s 6s/step - loss: 0.7214 - accuracy: 0.6490 - val_loss: 0.9530 - val_accuracy: 0.6384\n",
            "Epoch 12/200\n",
            "16/16 [==============================] - 94s 6s/step - loss: 0.7077 - accuracy: 0.6696 - val_loss: 0.8735 - val_accuracy: 0.6605\n",
            "Epoch 13/200\n",
            "16/16 [==============================] - 94s 6s/step - loss: 0.7114 - accuracy: 0.6588 - val_loss: 0.8511 - val_accuracy: 0.6827\n",
            "Epoch 14/200\n",
            "16/16 [==============================] - 97s 6s/step - loss: 0.6997 - accuracy: 0.6667 - val_loss: 0.8570 - val_accuracy: 0.6236\n",
            "Epoch 15/200\n",
            "16/16 [==============================] - 94s 6s/step - loss: 0.6658 - accuracy: 0.6814 - val_loss: 0.6914 - val_accuracy: 0.7122\n",
            "Epoch 16/200\n",
            "16/16 [==============================] - 94s 6s/step - loss: 0.6604 - accuracy: 0.6931 - val_loss: 0.7209 - val_accuracy: 0.6753\n",
            "Epoch 17/200\n",
            "16/16 [==============================] - 95s 6s/step - loss: 0.6694 - accuracy: 0.6719 - val_loss: 0.7174 - val_accuracy: 0.7011\n",
            "Epoch 18/200\n",
            "16/16 [==============================] - 95s 6s/step - loss: 0.6728 - accuracy: 0.7059 - val_loss: 0.6676 - val_accuracy: 0.7122\n",
            "Epoch 19/200\n",
            "16/16 [==============================] - 95s 6s/step - loss: 0.6681 - accuracy: 0.6863 - val_loss: 0.6561 - val_accuracy: 0.7196\n",
            "Epoch 20/200\n",
            "16/16 [==============================] - 97s 6s/step - loss: 0.6752 - accuracy: 0.6814 - val_loss: 0.7294 - val_accuracy: 0.6827\n",
            "Epoch 21/200\n",
            "16/16 [==============================] - 95s 6s/step - loss: 0.6670 - accuracy: 0.6784 - val_loss: 0.7059 - val_accuracy: 0.7232\n",
            "Epoch 22/200\n",
            "16/16 [==============================] - 95s 6s/step - loss: 0.6412 - accuracy: 0.7029 - val_loss: 0.6580 - val_accuracy: 0.7306\n",
            "Epoch 23/200\n",
            "16/16 [==============================] - 94s 6s/step - loss: 0.6318 - accuracy: 0.7029 - val_loss: 0.6788 - val_accuracy: 0.7122\n",
            "Epoch 24/200\n",
            "16/16 [==============================] - 95s 6s/step - loss: 0.6002 - accuracy: 0.7431 - val_loss: 0.6174 - val_accuracy: 0.7306\n",
            "Epoch 25/200\n",
            "16/16 [==============================] - 94s 6s/step - loss: 0.6129 - accuracy: 0.7225 - val_loss: 0.7434 - val_accuracy: 0.7085\n",
            "Epoch 26/200\n",
            "16/16 [==============================] - 97s 6s/step - loss: 0.5887 - accuracy: 0.7373 - val_loss: 0.6949 - val_accuracy: 0.7159\n",
            "Epoch 27/200\n",
            "16/16 [==============================] - 95s 6s/step - loss: 0.6054 - accuracy: 0.7206 - val_loss: 0.6606 - val_accuracy: 0.7085\n",
            "Epoch 28/200\n",
            "16/16 [==============================] - 94s 6s/step - loss: 0.5802 - accuracy: 0.7392 - val_loss: 0.6152 - val_accuracy: 0.7491\n",
            "Epoch 29/200\n",
            "11/16 [===================>..........] - ETA: 27s - loss: 0.5813 - accuracy: 0.7330"
          ],
          "name": "stdout"
        }
      ]
    },
    {
      "cell_type": "markdown",
      "metadata": {
        "id": "wrP1YTwfH0_j"
      },
      "source": [
        "### Graphics"
      ]
    },
    {
      "cell_type": "code",
      "metadata": {
        "id": "Z1W-lk-MH5mW"
      },
      "source": [
        "import matplotlib.pyplot as plt\n",
        "def plot_acc_loss(results, epochs):\n",
        " acc = results.history['accuracy']\n",
        " loss = results.history['loss']\n",
        " val_acc = results.history['val_accuracy']\n",
        " val_loss = results.history['val_loss']\n",
        " plt.figure(figsize=(15, 5))\n",
        " plt.subplot(121)\n",
        " plt.plot(range(1,epochs), acc[1:], label='Train_acc')\n",
        " plt.plot(range(1,epochs), val_acc[1:], label='Test_acc')\n",
        " plt.title('Accuracy over ' + str(epochs) + ' Epochs', size=15)\n",
        " plt.legend()\n",
        " plt.grid(True)\n",
        " plt.subplot(122)\n",
        " plt.plot(range(1,epochs), loss[1:], label='Train_loss')\n",
        " plt.plot(range(1,epochs), val_loss[1:], label='Test_loss')\n",
        " plt.title('Loss over ' + str(epochs) +  ' Epochs', size=15)\n",
        " plt.legend()\n",
        " plt.grid(True)\n",
        " plt.show()\n",
        " \n",
        "plot_acc_loss(history, EPOCHS)"
      ],
      "execution_count": null,
      "outputs": []
    },
    {
      "cell_type": "markdown",
      "metadata": {
        "id": "QgqfeYe9_Un9"
      },
      "source": [
        "## Model with Tranfer Learning"
      ]
    },
    {
      "cell_type": "markdown",
      "metadata": {
        "id": "bFUsdSsCnh-P"
      },
      "source": [
        "### Parameters"
      ]
    },
    {
      "cell_type": "code",
      "metadata": {
        "id": "XWrIXIsOMvA6"
      },
      "source": [
        "# initialize the initial learning rate, number of epochs and batch size\n",
        "INIT_LR = 1e-4\n",
        "EPOCHS = 100\n",
        "BS = 32"
      ],
      "execution_count": null,
      "outputs": []
    },
    {
      "cell_type": "markdown",
      "metadata": {
        "id": "WCXotwbPn8LY"
      },
      "source": [
        "### Resize Input Images"
      ]
    },
    {
      "cell_type": "code",
      "metadata": {
        "id": "pDq1Mw3eNZ0p",
        "outputId": "667cc8d8-121b-405c-8368-6ac9af7ce94a",
        "colab": {
          "base_uri": "https://localhost:8080/",
          "height": 34
        }
      },
      "source": [
        "# put the list of images in our dataset directory, then initialize\n",
        "# the list of data and class images\n",
        "print(\"loading images...\")\n",
        "imagePaths = list(paths.list_images(\"/content/drive/My Drive/data\"))\n",
        "data = []\n",
        "labels = []\n",
        "\n",
        "# loop over the image paths\n",
        "for imagePath in imagePaths:\n",
        "\t# extract the class label from the filename\n",
        "\tlabel = imagePath.split(os.path.sep)[-2]\n",
        "\n",
        "\t# load the input image (224x224) and preprocess it\n",
        "\timage = load_img(imagePath, target_size=(224, 224))\n",
        "\timage = img_to_array(image)\n",
        "\timage = preprocess_input(image)\n",
        "\n",
        "\t# update the data and labels lists, respectively\n",
        "\tdata.append(image)\n",
        "\tlabels.append(label)\n",
        "\n",
        "# convert the data and labels to NumPy arrays\n",
        "data = np.array(data, dtype=\"float32\")\n",
        "labels = np.array(labels)\n",
        "\n",
        "# perform one-hot encoding on the labels\n",
        "lb = LabelBinarizer()\n",
        "labels = lb.fit_transform(labels)\n",
        "#labels = to_categorical(labels)\n"
      ],
      "execution_count": null,
      "outputs": [
        {
          "output_type": "stream",
          "text": [
            "loading images...\n"
          ],
          "name": "stdout"
        }
      ]
    },
    {
      "cell_type": "markdown",
      "metadata": {
        "id": "OMcM7pDXoNlJ"
      },
      "source": [
        "### Split dataset train and test "
      ]
    },
    {
      "cell_type": "code",
      "metadata": {
        "id": "6TCvA7YRfs1K"
      },
      "source": [
        "# partition the data into training and testing splits using 80% of\n",
        "# the data for training and the remaining 20% for testing\n",
        "(trainX, testX, trainY, testY) = train_test_split(data, labels,\n",
        "\ttest_size=0.20, random_state=42)"
      ],
      "execution_count": null,
      "outputs": []
    },
    {
      "cell_type": "markdown",
      "metadata": {
        "id": "yuJgiFecpR2-"
      },
      "source": [
        "### Construct the training image generator"
      ]
    },
    {
      "cell_type": "code",
      "metadata": {
        "id": "JmYw60yOTf75"
      },
      "source": [
        "\n",
        "# construct the training image generator for data augmentation\n",
        "aug = ImageDataGenerator(\n",
        "\trotation_range=20,\n",
        "\tzoom_range=0.15,\n",
        "\twidth_shift_range=0.2,\n",
        "\theight_shift_range=0.2,\n",
        "\tshear_range=0.15,\n",
        "\thorizontal_flip=True,\n",
        "\tfill_mode=\"nearest\")"
      ],
      "execution_count": null,
      "outputs": []
    },
    {
      "cell_type": "markdown",
      "metadata": {
        "id": "R4QmARt4phKn"
      },
      "source": [
        "### MobileNetV2 network\n",
        "\n"
      ]
    },
    {
      "cell_type": "code",
      "metadata": {
        "id": "DKRVGC9Dphd7",
        "outputId": "dc15f781-73b6-4f97-ee05-2161c85d5ebb",
        "colab": {
          "base_uri": "https://localhost:8080/",
          "height": 88
        }
      },
      "source": [
        "# load the MobileNetV2 network, ensuring the head FC layer sets are\n",
        "# left off\n",
        "baseModel = MobileNetV2(weights=\"imagenet\", include_top=False,\n",
        "\tinput_tensor=Input(shape=(224, 224, 3)))"
      ],
      "execution_count": null,
      "outputs": [
        {
          "output_type": "stream",
          "text": [
            "WARNING:tensorflow:`input_shape` is undefined or non-square, or `rows` is not in [96, 128, 160, 192, 224]. Weights for input shape (224, 224) will be loaded as the default.\n",
            "Downloading data from https://storage.googleapis.com/tensorflow/keras-applications/mobilenet_v2/mobilenet_v2_weights_tf_dim_ordering_tf_kernels_1.0_224_no_top.h5\n",
            "9412608/9406464 [==============================] - 0s 0us/step\n"
          ],
          "name": "stdout"
        }
      ]
    },
    {
      "cell_type": "markdown",
      "metadata": {
        "id": "o3W3ie32qLkd"
      },
      "source": [
        "### Parameter Optimization and Model"
      ]
    },
    {
      "cell_type": "code",
      "metadata": {
        "id": "c9DF0qtvOR_Z",
        "outputId": "372f2565-f46b-402f-8df9-5af18461c469",
        "colab": {
          "base_uri": "https://localhost:8080/",
          "height": 1000
        }
      },
      "source": [
        "# construct the head of the model that will be placed on top of the\n",
        "# the base model\n",
        "headModel = baseModel.output\n",
        "headModel = AveragePooling2D(pool_size=(7, 7))(headModel)\n",
        "headModel = Flatten(name=\"flatten\")(headModel)\n",
        "headModel = Dense(128, activation=\"relu\")(headModel)\n",
        "#headModel = Dense(64, activation=\"relu\")(headModel)\n",
        "headModel = Dropout(0.6)(headModel)\n",
        "headModel = Dense(3, activation=\"softmax\")(headModel)\n",
        "\n",
        "# place the head FC model on top of the base model (this will become\n",
        "# the actual model we will train)\n",
        "model = Model(inputs=baseModel.input, outputs=headModel)\n",
        "\n",
        "# loop over all layers in the base model and freeze them so they will\n",
        "# *not* be updated during the first training process\n",
        "for layer in baseModel.layers:\n",
        "\tlayer.trainable = False\n",
        "\n",
        "# compile our model\n",
        "print(\"compiling model...\")\n",
        "opt = Adam(lr=INIT_LR, decay=INIT_LR / EPOCHS)\n",
        "model.compile(loss=\"binary_crossentropy\", optimizer=opt,\n",
        "\tmetrics=[\"accuracy\"])\n",
        "\n",
        "# train the head of the network\n",
        "print(\"training head...\")\n",
        "H = model.fit(\n",
        "\taug.flow(trainX, trainY, batch_size=BS),\n",
        "\tsteps_per_epoch=len(trainX) // BS,\n",
        "\tvalidation_data=(testX, testY),\n",
        "\tvalidation_steps=len(testX) // BS,\n",
        "\tepochs=EPOCHS)\n",
        "\n",
        "# make predictions on the testing set\n",
        "print(\" evaluating network...\")\n",
        "predIdxs = model.predict(testX, batch_size=BS)\n",
        "\n",
        "# for each image in the testing set we need to find the index of the\n",
        "# label with corresponding largest predicted probability\n",
        "predIdxs = np.argmax(predIdxs, axis=1)\n",
        "\n",
        "# show a nicely formatted classification report\n",
        "print(classification_report(testY.argmax(axis=1), predIdxs,\n",
        "\ttarget_names=lb.classes_))\n",
        "\n",
        "\n"
      ],
      "execution_count": null,
      "outputs": [
        {
          "output_type": "stream",
          "text": [
            "compiling model...\n",
            "training head...\n",
            "Epoch 1/100\n",
            "33/33 [==============================] - 51s 2s/step - loss: 0.7500 - accuracy: 0.4278 - val_loss: 0.4585 - val_accuracy: 0.6384\n",
            "Epoch 2/100\n",
            "33/33 [==============================] - 55s 2s/step - loss: 0.4995 - accuracy: 0.6112 - val_loss: 0.3594 - val_accuracy: 0.7638\n",
            "Epoch 3/100\n",
            "33/33 [==============================] - 50s 2s/step - loss: 0.4283 - accuracy: 0.6711 - val_loss: 0.3230 - val_accuracy: 0.7970\n",
            "Epoch 4/100\n",
            "33/33 [==============================] - 51s 2s/step - loss: 0.3567 - accuracy: 0.7357 - val_loss: 0.2964 - val_accuracy: 0.8192\n",
            "Epoch 5/100\n",
            "33/33 [==============================] - 51s 2s/step - loss: 0.3307 - accuracy: 0.7671 - val_loss: 0.2824 - val_accuracy: 0.7934\n",
            "Epoch 6/100\n",
            "33/33 [==============================] - 51s 2s/step - loss: 0.3103 - accuracy: 0.7795 - val_loss: 0.2678 - val_accuracy: 0.8229\n",
            "Epoch 7/100\n",
            "33/33 [==============================] - 51s 2s/step - loss: 0.2994 - accuracy: 0.7918 - val_loss: 0.2658 - val_accuracy: 0.8007\n",
            "Epoch 8/100\n",
            "33/33 [==============================] - 51s 2s/step - loss: 0.2806 - accuracy: 0.8137 - val_loss: 0.2501 - val_accuracy: 0.8229\n",
            "Epoch 9/100\n",
            "33/33 [==============================] - 51s 2s/step - loss: 0.2657 - accuracy: 0.8232 - val_loss: 0.2451 - val_accuracy: 0.8266\n",
            "Epoch 10/100\n",
            "33/33 [==============================] - 51s 2s/step - loss: 0.2659 - accuracy: 0.8118 - val_loss: 0.2440 - val_accuracy: 0.8155\n",
            "Epoch 11/100\n",
            "33/33 [==============================] - 50s 2s/step - loss: 0.2710 - accuracy: 0.8194 - val_loss: 0.2365 - val_accuracy: 0.8303\n",
            "Epoch 12/100\n",
            "33/33 [==============================] - 51s 2s/step - loss: 0.2461 - accuracy: 0.8365 - val_loss: 0.2326 - val_accuracy: 0.8229\n",
            "Epoch 13/100\n",
            "33/33 [==============================] - 53s 2s/step - loss: 0.2525 - accuracy: 0.8337 - val_loss: 0.2300 - val_accuracy: 0.8266\n",
            "Epoch 14/100\n",
            "33/33 [==============================] - 51s 2s/step - loss: 0.2482 - accuracy: 0.8422 - val_loss: 0.2275 - val_accuracy: 0.8266\n",
            "Epoch 15/100\n",
            "33/33 [==============================] - 51s 2s/step - loss: 0.2270 - accuracy: 0.8422 - val_loss: 0.2215 - val_accuracy: 0.8376\n",
            "Epoch 16/100\n",
            "33/33 [==============================] - 50s 2s/step - loss: 0.2289 - accuracy: 0.8489 - val_loss: 0.2167 - val_accuracy: 0.8635\n",
            "Epoch 17/100\n",
            "33/33 [==============================] - 51s 2s/step - loss: 0.2237 - accuracy: 0.8574 - val_loss: 0.2168 - val_accuracy: 0.8487\n",
            "Epoch 18/100\n",
            "33/33 [==============================] - 50s 2s/step - loss: 0.2138 - accuracy: 0.8650 - val_loss: 0.2185 - val_accuracy: 0.8413\n",
            "Epoch 19/100\n",
            "33/33 [==============================] - 50s 2s/step - loss: 0.2083 - accuracy: 0.8650 - val_loss: 0.2070 - val_accuracy: 0.8524\n",
            "Epoch 20/100\n",
            "33/33 [==============================] - 51s 2s/step - loss: 0.2082 - accuracy: 0.8603 - val_loss: 0.2108 - val_accuracy: 0.8487\n",
            "Epoch 21/100\n",
            "33/33 [==============================] - 50s 2s/step - loss: 0.2203 - accuracy: 0.8612 - val_loss: 0.2046 - val_accuracy: 0.8708\n",
            "Epoch 22/100\n",
            "33/33 [==============================] - 50s 2s/step - loss: 0.2179 - accuracy: 0.8603 - val_loss: 0.2055 - val_accuracy: 0.8561\n",
            "Epoch 23/100\n",
            "33/33 [==============================] - 51s 2s/step - loss: 0.1935 - accuracy: 0.8707 - val_loss: 0.2027 - val_accuracy: 0.8561\n",
            "Epoch 24/100\n",
            "33/33 [==============================] - 51s 2s/step - loss: 0.1922 - accuracy: 0.8774 - val_loss: 0.2075 - val_accuracy: 0.8487\n",
            "Epoch 25/100\n",
            "33/33 [==============================] - 54s 2s/step - loss: 0.1975 - accuracy: 0.8698 - val_loss: 0.2001 - val_accuracy: 0.8598\n",
            "Epoch 26/100\n",
            "33/33 [==============================] - 51s 2s/step - loss: 0.1931 - accuracy: 0.8783 - val_loss: 0.1997 - val_accuracy: 0.8561\n",
            "Epoch 27/100\n",
            "33/33 [==============================] - 51s 2s/step - loss: 0.1924 - accuracy: 0.8641 - val_loss: 0.1986 - val_accuracy: 0.8708\n",
            "Epoch 28/100\n",
            "33/33 [==============================] - 51s 2s/step - loss: 0.1817 - accuracy: 0.8783 - val_loss: 0.1948 - val_accuracy: 0.8819\n",
            "Epoch 29/100\n",
            "33/33 [==============================] - 51s 2s/step - loss: 0.1834 - accuracy: 0.8793 - val_loss: 0.1991 - val_accuracy: 0.8598\n",
            "Epoch 30/100\n",
            "33/33 [==============================] - 51s 2s/step - loss: 0.1844 - accuracy: 0.8907 - val_loss: 0.1907 - val_accuracy: 0.8856\n",
            "Epoch 31/100\n",
            "33/33 [==============================] - 50s 2s/step - loss: 0.1900 - accuracy: 0.8783 - val_loss: 0.1882 - val_accuracy: 0.8967\n",
            "Epoch 32/100\n",
            "33/33 [==============================] - 51s 2s/step - loss: 0.1805 - accuracy: 0.8831 - val_loss: 0.1949 - val_accuracy: 0.8635\n",
            "Epoch 33/100\n",
            "33/33 [==============================] - 50s 2s/step - loss: 0.1670 - accuracy: 0.8983 - val_loss: 0.1893 - val_accuracy: 0.8782\n",
            "Epoch 34/100\n",
            "33/33 [==============================] - 50s 2s/step - loss: 0.1699 - accuracy: 0.9059 - val_loss: 0.1883 - val_accuracy: 0.8782\n",
            "Epoch 35/100\n",
            "33/33 [==============================] - 50s 2s/step - loss: 0.1716 - accuracy: 0.8983 - val_loss: 0.1863 - val_accuracy: 0.8893\n",
            "Epoch 36/100\n",
            "33/33 [==============================] - 51s 2s/step - loss: 0.1574 - accuracy: 0.9049 - val_loss: 0.1827 - val_accuracy: 0.8819\n",
            "Epoch 37/100\n",
            "33/33 [==============================] - 53s 2s/step - loss: 0.1739 - accuracy: 0.8916 - val_loss: 0.1838 - val_accuracy: 0.8856\n",
            "Epoch 38/100\n",
            "33/33 [==============================] - 51s 2s/step - loss: 0.1680 - accuracy: 0.8888 - val_loss: 0.1874 - val_accuracy: 0.8745\n",
            "Epoch 39/100\n",
            "33/33 [==============================] - 51s 2s/step - loss: 0.1781 - accuracy: 0.8859 - val_loss: 0.1839 - val_accuracy: 0.8745\n",
            "Epoch 40/100\n",
            "33/33 [==============================] - 51s 2s/step - loss: 0.1619 - accuracy: 0.9049 - val_loss: 0.1823 - val_accuracy: 0.8819\n",
            "Epoch 41/100\n",
            "33/33 [==============================] - 50s 2s/step - loss: 0.1655 - accuracy: 0.9078 - val_loss: 0.1817 - val_accuracy: 0.8819\n",
            "Epoch 42/100\n",
            "33/33 [==============================] - 51s 2s/step - loss: 0.1560 - accuracy: 0.8992 - val_loss: 0.1831 - val_accuracy: 0.8819\n",
            "Epoch 43/100\n",
            "33/33 [==============================] - 50s 2s/step - loss: 0.1516 - accuracy: 0.8954 - val_loss: 0.1863 - val_accuracy: 0.8893\n",
            "Epoch 44/100\n",
            "33/33 [==============================] - 51s 2s/step - loss: 0.1530 - accuracy: 0.9097 - val_loss: 0.1865 - val_accuracy: 0.8782\n",
            "Epoch 45/100\n",
            "33/33 [==============================] - 50s 2s/step - loss: 0.1524 - accuracy: 0.9087 - val_loss: 0.1829 - val_accuracy: 0.8893\n",
            "Epoch 46/100\n",
            "33/33 [==============================] - 51s 2s/step - loss: 0.1417 - accuracy: 0.9173 - val_loss: 0.1799 - val_accuracy: 0.8819\n",
            "Epoch 47/100\n",
            "33/33 [==============================] - 50s 2s/step - loss: 0.1508 - accuracy: 0.9059 - val_loss: 0.1778 - val_accuracy: 0.8893\n",
            "Epoch 48/100\n",
            "33/33 [==============================] - 53s 2s/step - loss: 0.1559 - accuracy: 0.9040 - val_loss: 0.1755 - val_accuracy: 0.8930\n",
            "Epoch 49/100\n",
            "33/33 [==============================] - 50s 2s/step - loss: 0.1365 - accuracy: 0.9325 - val_loss: 0.1755 - val_accuracy: 0.8967\n",
            "Epoch 50/100\n",
            "33/33 [==============================] - 51s 2s/step - loss: 0.1418 - accuracy: 0.9163 - val_loss: 0.1761 - val_accuracy: 0.8893\n",
            "Epoch 51/100\n",
            "33/33 [==============================] - 50s 2s/step - loss: 0.1385 - accuracy: 0.9259 - val_loss: 0.1750 - val_accuracy: 0.8930\n",
            "Epoch 52/100\n",
            "33/33 [==============================] - 50s 2s/step - loss: 0.1384 - accuracy: 0.9173 - val_loss: 0.1769 - val_accuracy: 0.8930\n",
            "Epoch 53/100\n",
            "33/33 [==============================] - 50s 2s/step - loss: 0.1344 - accuracy: 0.9230 - val_loss: 0.1728 - val_accuracy: 0.9004\n",
            "Epoch 54/100\n",
            "33/33 [==============================] - 50s 2s/step - loss: 0.1314 - accuracy: 0.9211 - val_loss: 0.1724 - val_accuracy: 0.8967\n",
            "Epoch 55/100\n",
            "33/33 [==============================] - 50s 2s/step - loss: 0.1358 - accuracy: 0.9125 - val_loss: 0.1728 - val_accuracy: 0.8967\n",
            "Epoch 56/100\n",
            "33/33 [==============================] - 50s 2s/step - loss: 0.1436 - accuracy: 0.9125 - val_loss: 0.1738 - val_accuracy: 0.9004\n",
            "Epoch 57/100\n",
            "33/33 [==============================] - 50s 2s/step - loss: 0.1383 - accuracy: 0.9068 - val_loss: 0.1735 - val_accuracy: 0.8930\n",
            "Epoch 58/100\n",
            "33/33 [==============================] - 50s 2s/step - loss: 0.1267 - accuracy: 0.9230 - val_loss: 0.1715 - val_accuracy: 0.8930\n",
            "Epoch 59/100\n",
            "33/33 [==============================] - 50s 2s/step - loss: 0.1272 - accuracy: 0.9268 - val_loss: 0.1713 - val_accuracy: 0.8967\n",
            "Epoch 60/100\n",
            "33/33 [==============================] - 53s 2s/step - loss: 0.1256 - accuracy: 0.9268 - val_loss: 0.1718 - val_accuracy: 0.9041\n",
            "Epoch 61/100\n",
            "33/33 [==============================] - 50s 2s/step - loss: 0.1278 - accuracy: 0.9192 - val_loss: 0.1711 - val_accuracy: 0.8893\n",
            "Epoch 62/100\n",
            "33/33 [==============================] - 50s 2s/step - loss: 0.1304 - accuracy: 0.9202 - val_loss: 0.1767 - val_accuracy: 0.8930\n",
            "Epoch 63/100\n",
            "33/33 [==============================] - 50s 2s/step - loss: 0.1249 - accuracy: 0.9316 - val_loss: 0.1739 - val_accuracy: 0.9004\n",
            "Epoch 64/100\n",
            "33/33 [==============================] - 50s 2s/step - loss: 0.1287 - accuracy: 0.9192 - val_loss: 0.1715 - val_accuracy: 0.8930\n",
            "Epoch 65/100\n",
            "33/33 [==============================] - 50s 2s/step - loss: 0.1292 - accuracy: 0.9144 - val_loss: 0.1711 - val_accuracy: 0.8930\n",
            "Epoch 66/100\n",
            "33/33 [==============================] - 50s 2s/step - loss: 0.1297 - accuracy: 0.9078 - val_loss: 0.1746 - val_accuracy: 0.8856\n",
            "Epoch 67/100\n",
            "33/33 [==============================] - 50s 2s/step - loss: 0.1166 - accuracy: 0.9430 - val_loss: 0.1747 - val_accuracy: 0.9041\n",
            "Epoch 68/100\n",
            "33/33 [==============================] - 51s 2s/step - loss: 0.1213 - accuracy: 0.9202 - val_loss: 0.1690 - val_accuracy: 0.8893\n",
            "Epoch 69/100\n",
            "33/33 [==============================] - 51s 2s/step - loss: 0.1159 - accuracy: 0.9316 - val_loss: 0.1686 - val_accuracy: 0.8930\n",
            "Epoch 70/100\n",
            "33/33 [==============================] - 50s 2s/step - loss: 0.1190 - accuracy: 0.9325 - val_loss: 0.1711 - val_accuracy: 0.8893\n",
            "Epoch 71/100\n",
            "33/33 [==============================] - 50s 2s/step - loss: 0.1104 - accuracy: 0.9373 - val_loss: 0.1687 - val_accuracy: 0.8930\n",
            "Epoch 72/100\n",
            "33/33 [==============================] - 54s 2s/step - loss: 0.1123 - accuracy: 0.9373 - val_loss: 0.1699 - val_accuracy: 0.8930\n",
            "Epoch 73/100\n",
            "33/33 [==============================] - 50s 2s/step - loss: 0.1140 - accuracy: 0.9249 - val_loss: 0.1682 - val_accuracy: 0.8967\n",
            "Epoch 74/100\n",
            "33/33 [==============================] - 50s 2s/step - loss: 0.1158 - accuracy: 0.9278 - val_loss: 0.1699 - val_accuracy: 0.8819\n",
            "Epoch 75/100\n",
            "33/33 [==============================] - 50s 2s/step - loss: 0.1077 - accuracy: 0.9420 - val_loss: 0.1682 - val_accuracy: 0.8893\n",
            "Epoch 76/100\n",
            "33/33 [==============================] - 50s 2s/step - loss: 0.1146 - accuracy: 0.9325 - val_loss: 0.1661 - val_accuracy: 0.8967\n",
            "Epoch 77/100\n",
            "33/33 [==============================] - 51s 2s/step - loss: 0.1097 - accuracy: 0.9420 - val_loss: 0.1663 - val_accuracy: 0.8856\n",
            "Epoch 78/100\n",
            "33/33 [==============================] - 50s 2s/step - loss: 0.1119 - accuracy: 0.9430 - val_loss: 0.1716 - val_accuracy: 0.9004\n",
            "Epoch 79/100\n",
            "33/33 [==============================] - 50s 2s/step - loss: 0.0905 - accuracy: 0.9515 - val_loss: 0.1665 - val_accuracy: 0.9004\n",
            "Epoch 80/100\n",
            "33/33 [==============================] - 50s 2s/step - loss: 0.0999 - accuracy: 0.9468 - val_loss: 0.1656 - val_accuracy: 0.8856\n",
            "Epoch 81/100\n",
            "33/33 [==============================] - 50s 2s/step - loss: 0.1047 - accuracy: 0.9392 - val_loss: 0.1649 - val_accuracy: 0.8893\n",
            "Epoch 82/100\n",
            "33/33 [==============================] - 51s 2s/step - loss: 0.1169 - accuracy: 0.9287 - val_loss: 0.1636 - val_accuracy: 0.8967\n",
            "Epoch 83/100\n",
            "33/33 [==============================] - 54s 2s/step - loss: 0.1052 - accuracy: 0.9392 - val_loss: 0.1671 - val_accuracy: 0.8967\n",
            "Epoch 84/100\n",
            "33/33 [==============================] - 50s 2s/step - loss: 0.1063 - accuracy: 0.9401 - val_loss: 0.1626 - val_accuracy: 0.8893\n",
            "Epoch 85/100\n",
            "33/33 [==============================] - 50s 2s/step - loss: 0.0968 - accuracy: 0.9420 - val_loss: 0.1696 - val_accuracy: 0.8819\n",
            "Epoch 86/100\n",
            "33/33 [==============================] - 50s 2s/step - loss: 0.1018 - accuracy: 0.9430 - val_loss: 0.1629 - val_accuracy: 0.8967\n",
            "Epoch 87/100\n",
            "33/33 [==============================] - 50s 2s/step - loss: 0.1069 - accuracy: 0.9392 - val_loss: 0.1629 - val_accuracy: 0.8893\n",
            "Epoch 88/100\n",
            "33/33 [==============================] - 50s 2s/step - loss: 0.0991 - accuracy: 0.9441 - val_loss: 0.1648 - val_accuracy: 0.9004\n",
            "Epoch 89/100\n",
            "33/33 [==============================] - 50s 2s/step - loss: 0.0985 - accuracy: 0.9468 - val_loss: 0.1643 - val_accuracy: 0.8893\n",
            "Epoch 90/100\n",
            "33/33 [==============================] - 50s 2s/step - loss: 0.1133 - accuracy: 0.9344 - val_loss: 0.1662 - val_accuracy: 0.8856\n",
            "Epoch 91/100\n",
            "33/33 [==============================] - 50s 2s/step - loss: 0.0926 - accuracy: 0.9420 - val_loss: 0.1671 - val_accuracy: 0.8893\n",
            "Epoch 92/100\n",
            "33/33 [==============================] - 51s 2s/step - loss: 0.1011 - accuracy: 0.9449 - val_loss: 0.1680 - val_accuracy: 0.8893\n",
            "Epoch 93/100\n",
            "33/33 [==============================] - 50s 2s/step - loss: 0.0997 - accuracy: 0.9439 - val_loss: 0.1674 - val_accuracy: 0.8893\n",
            "Epoch 94/100\n",
            "33/33 [==============================] - 50s 2s/step - loss: 0.0963 - accuracy: 0.9458 - val_loss: 0.1707 - val_accuracy: 0.8782\n",
            "Epoch 95/100\n",
            "33/33 [==============================] - 53s 2s/step - loss: 0.1033 - accuracy: 0.9439 - val_loss: 0.1662 - val_accuracy: 0.8893\n",
            "Epoch 96/100\n",
            "33/33 [==============================] - 50s 2s/step - loss: 0.0927 - accuracy: 0.9572 - val_loss: 0.1650 - val_accuracy: 0.9004\n",
            "Epoch 97/100\n",
            "33/33 [==============================] - 50s 2s/step - loss: 0.1073 - accuracy: 0.9259 - val_loss: 0.1714 - val_accuracy: 0.8819\n",
            "Epoch 98/100\n",
            "33/33 [==============================] - 50s 2s/step - loss: 0.0970 - accuracy: 0.9477 - val_loss: 0.1674 - val_accuracy: 0.8930\n",
            "Epoch 99/100\n",
            "33/33 [==============================] - 50s 2s/step - loss: 0.0954 - accuracy: 0.9506 - val_loss: 0.1630 - val_accuracy: 0.8967\n",
            "Epoch 100/100\n",
            "33/33 [==============================] - 50s 2s/step - loss: 0.0960 - accuracy: 0.9411 - val_loss: 0.1670 - val_accuracy: 0.9004\n",
            " evaluating network...\n",
            "              precision    recall  f1-score   support\n",
            "\n",
            "      nomask       0.98      0.99      0.98        99\n",
            "   wrongmask       0.83      0.88      0.85        90\n",
            "     yesmask       0.88      0.82      0.85        82\n",
            "\n",
            "    accuracy                           0.90       271\n",
            "   macro avg       0.90      0.89      0.90       271\n",
            "weighted avg       0.90      0.90      0.90       271\n",
            "\n"
          ],
          "name": "stdout"
        }
      ]
    },
    {
      "cell_type": "code",
      "metadata": {
        "id": "jgO5nihJzSkL"
      },
      "source": [
        "saved_model_path = \"./my_model.h5\"\n",
        "model.save(saved_model_path) #save your model "
      ],
      "execution_count": null,
      "outputs": []
    },
    {
      "cell_type": "markdown",
      "metadata": {
        "id": "n8STqf2aHn9I"
      },
      "source": [
        "### Graphics"
      ]
    },
    {
      "cell_type": "code",
      "metadata": {
        "id": "XcZ9PKcQkI_0",
        "outputId": "dc751753-106c-4f13-d524-a9b013cbfc76",
        "colab": {
          "base_uri": "https://localhost:8080/",
          "height": 338
        }
      },
      "source": [
        "import matplotlib.pyplot as plt\n",
        "def plot_acc_loss(results, epochs):\n",
        " acc = results.history['accuracy']\n",
        " loss = results.history['loss']\n",
        " val_acc = results.history['val_accuracy']\n",
        " val_loss = results.history['val_loss']\n",
        " plt.figure(figsize=(15, 5))\n",
        " plt.subplot(121)\n",
        " plt.plot(range(1,epochs), acc[1:], label='Train_acc')\n",
        " plt.plot(range(1,epochs), val_acc[1:], label='Test_acc')\n",
        " plt.title('Accuracy over ' + str(epochs) + ' Epochs', size=15)\n",
        " plt.legend()\n",
        " plt.grid(True)\n",
        " plt.subplot(122)\n",
        " plt.plot(range(1,epochs), loss[1:], label='Train_loss')\n",
        " plt.plot(range(1,epochs), val_loss[1:], label='Test_loss')\n",
        " plt.title('Loss over ' + str(epochs) +  ' Epochs', size=15)\n",
        " plt.legend()\n",
        " plt.grid(True)\n",
        " plt.show()\n",
        " \n",
        "plot_acc_loss(H, EPOCHS)"
      ],
      "execution_count": null,
      "outputs": [
        {
          "output_type": "display_data",
          "data": {
            "image/png": "[encoded data removed]",
            "text/plain": [
              "<Figure size 1080x360 with 2 Axes>"
            ]
          },
          "metadata": {
            "tags": [],
            "needs_background": "light"
          }
        }
      ]
    },
    {
      "cell_type": "code",
      "metadata": {
        "id": "zX8Fs6cIgGF6",
        "outputId": "5a5da1cd-4199-4b70-f67d-c679eba6017d",
        "colab": {
          "base_uri": "https://localhost:8080/",
          "height": 316
        }
      },
      "source": [
        "# plot the training loss and accuracy\n",
        "N = EPOCHS\n",
        "plt.style.use(\"ggplot\")\n",
        "plt.figure()\n",
        "plt.plot(np.arange(0, N), H.history[\"loss\"], label=\"train_loss\")\n",
        "plt.plot(np.arange(0, N), H.history[\"val_loss\"], label=\"val_loss\")\n",
        "plt.plot(np.arange(0, N), H.history[\"accuracy\"], label=\"train_acc\")\n",
        "plt.plot(np.arange(0, N), H.history[\"val_accuracy\"], label=\"val_acc\")\n",
        "plt.title(\"Training Loss and Accuracy\")\n",
        "plt.xlabel(\"Epoch #\")\n",
        "plt.ylabel(\"Loss/Accuracy\")\n",
        "plt.legend(loc=\"lower left\")\n",
        "#plt.savefig(\"plot\")"
      ],
      "execution_count": null,
      "outputs": [
        {
          "output_type": "execute_result",
          "data": {
            "text/plain": [
              "<matplotlib.legend.Legend at 0x7fcee138e2b0>"
            ]
          },
          "metadata": {
            "tags": []
          },
          "execution_count": 36
        },
        {
          "output_type": "display_data",
          "data": {
            "image/png": "[encoded data removed]",
            "text/plain": [
              "<Figure size 432x288 with 1 Axes>"
            ]
          },
          "metadata": {
            "tags": []
          }
        }
      ]
    }
  ]
}
